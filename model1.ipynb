{
 "cells": [
  {
   "cell_type": "markdown",
   "metadata": {},
   "source": [
    "This is the first iteration of COUNT GD for the Stave Project\n",
    "Users developing this model: David Cui"
   ]
  },
  {
   "cell_type": "code",
   "execution_count": 2,
   "metadata": {},
   "outputs": [],
   "source": [
    "import os"
   ]
  },
  {
   "cell_type": "code",
   "execution_count": 4,
   "metadata": {},
   "outputs": [
    {
     "name": "stdout",
     "output_type": "stream",
     "text": [
      "fuck yea, the dataset exists and is there\n",
      "TOtal files in the dataset: 2816\n"
     ]
    }
   ],
   "source": [
    "#FIND THE DATASET PATH\n",
    "dataset_path = os.path.join(\"..\", 'Resized Data') #this will move to the directory one above\n",
    "\n",
    "#let's vertify the dataset path\n",
    "if os.path.exists(dataset_path): #check if it even exists before running program\n",
    "    print('fuck yea, the dataset exists and is there :D')\n",
    "    print(f\"TOtal files in the dataset: {len(os.listdir(dataset_path))}\")\n",
    "else: #print the msg if the path doesn't exists\n",
    "    print(\"ya fucked up. Dataset isn't here\")"
   ]
  }
 ],
 "metadata": {
  "kernelspec": {
   "display_name": "venv",
   "language": "python",
   "name": "python3"
  },
  "language_info": {
   "codemirror_mode": {
    "name": "ipython",
    "version": 3
   },
   "file_extension": ".py",
   "mimetype": "text/x-python",
   "name": "python",
   "nbconvert_exporter": "python",
   "pygments_lexer": "ipython3",
   "version": "3.13.1"
  }
 },
 "nbformat": 4,
 "nbformat_minor": 2
}
